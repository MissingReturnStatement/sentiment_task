{
 "cells": [
  {
   "cell_type": "code",
   "execution_count": 1,
   "id": "77fc69b3",
   "metadata": {},
   "outputs": [
    {
     "name": "stdout",
     "output_type": "stream",
     "text": [
      "<class 'str'>\n"
     ]
    },
    {
     "data": {
      "text/plain": [
       "<pygents.aigents_api.AigentsSentiment at 0x1fdf61088b0>"
      ]
     },
     "execution_count": 1,
     "metadata": {},
     "output_type": "execute_result"
    }
   ],
   "source": [
    "#подключение api\n",
    "import os, sys\n",
    "cwd = os.getcwd()\n",
    "print(type(cwd))\n",
    "project_path = cwd[:cwd.find('aigents')+7]\n",
    "if project_path not in sys.path: sys.path.append(project_path)\n",
    "os.chdir(project_path) \n",
    "\n",
    "import datetime as dt\n",
    "\n",
    "if 'pygents.aigents_api' in sys.modules:\n",
    "    del sys.modules['pygents.aigents_api']\n",
    "\n",
    "from pygents.aigents_api import AigentsSentiment\n",
    "\n",
    "\n",
    "a = AigentsSentiment(api_url='https://aigents.com/al',debug=False)\n",
    "#debug = False/True для отключения/включения вывода работы модели\n",
    "a\n"
   ]
  },
  {
   "cell_type": "code",
   "execution_count": 2,
   "id": "ac4d8b6b",
   "metadata": {},
   "outputs": [],
   "source": [
    "import pandas as pd\n",
    "import numpy as np\n",
    "from tqdm import trange\n",
    "import seaborn as sns\n",
    "import matplotlib.pyplot as plt\n",
    "from sklearn.metrics import classification_report, confusion_matrix\n"
   ]
  },
  {
   "cell_type": "code",
   "execution_count": 3,
   "id": "bdebced6",
   "metadata": {},
   "outputs": [],
   "source": [
    "df = pd.read_csv('news.csv', encoding = 'ISO-8859-1')"
   ]
  },
  {
   "cell_type": "markdown",
   "id": "1f2b8b96",
   "metadata": {},
   "source": [
    "Данные в тестовом датасете представляют собой текст некоторой длины и заранее определённую метку. Тестовый датасет предназначен для работы с finbert, т.к размечен под него.\n",
    "\n",
    "Пример данных:\n",
    "\n",
    "**text** {treatment products in Usa , Canada , Mexico , Australia and Brazil Today , Global Research & Data Services is going to publish several market analyses about the markets for water treatment products in some selected countries .}\n",
    "\n",
    "**sentiment** {negative}"
   ]
  },
  {
   "cell_type": "code",
   "execution_count": 5,
   "id": "2833fdb5",
   "metadata": {},
   "outputs": [
    {
     "name": "stderr",
     "output_type": "stream",
     "text": [
      "100%|████████████████████████████████████████████| 4846/4846 [09:18<00:00,  8.68it/s]\n"
     ]
    }
   ],
   "source": [
    "texts = df['headline'].to_list()\n",
    "results = []\n",
    "for i in trange(len(texts)):\n",
    "    s = a.get_sentiment(texts[i])\n",
    "    results.append(list(s)[1:3])\n",
    "    #results.append(list(s))\n",
    "    #print(results[i])\n",
    "    \n",
    "    \n"
   ]
  },
  {
   "cell_type": "markdown",
   "id": "90db19f2",
   "metadata": {},
   "source": [
    "Пример выходных данных:\n",
    "**text** : Technopolis plans to develop in stages an area of no less than 100,000 square meters in order to host companies working in computer technologies and telecommunications , the statement said .\n",
    "\n",
    "**json** : [{\"negative\":\"31\",\"negatives\":[\"square\"],\"positive\":\"0\",\"positives\":[],\"sentiment\":\"-31\",\"text\":\"Technopolis plans to develop in stages an area of no less than 100,000 square meters in order to host companies working in computer technologies and telecommunications , the statement said .\"}]\n",
    "\n",
    "\n",
    "\n",
    "По умолчанию, метод **get_sentiment** возвращает кортеж из 6 значений, где:\n",
    "\n",
    "0. sentimnet => sen = float(item['sentiment']) / 100\n",
    "1. positive = >pos = float(item['positive']) / 100 if 'positive' in item.keys() else 0\n",
    "2. negative = >neg = -float(item['negative']) / 100 if 'negative' in item.keys() else 0\n",
    "4. contradictive => con = round(math.sqrt(pos * -neg),2)\n",
    "5. размер текста\n",
    "6. количество текстов"
   ]
  },
  {
   "cell_type": "code",
   "execution_count": 10,
   "id": "c87b8b7f",
   "metadata": {},
   "outputs": [],
   "source": [
    "i = 0\n",
    "result_list = []\n",
    "for item in results:\n",
    "    if abs(item[0]) > abs(item[1]):\n",
    "        result_list.append('positive')\n",
    "    elif abs(item[0]) < abs(item[1]):\n",
    "        result_list.append('negative')\n",
    "    elif abs(item[0]) == abs(item[1]):\n",
    "        result_list.append('neutral')\n",
    "    i+=1\n",
    "#первый способ выделения метки neutral\n",
    "    "
   ]
  },
  {
   "cell_type": "code",
   "execution_count": 7,
   "id": "68c14590",
   "metadata": {},
   "outputs": [],
   "source": [
    "result_list_1 = []\n",
    "for item in results:\n",
    "    item[1] = abs(item[1])\n",
    "for item in results:\n",
    "    item.append(1-abs(item[0]-item[1]))\n",
    "labels = {2:'neutral', 0:'positive',1:'negative'}\n",
    "result_list = []\n",
    "for item in results:\n",
    "    result_list_1.append((labels[np.argmax(item)]))\n",
    "#второй способ выделения метки neutral"
   ]
  },
  {
   "cell_type": "code",
   "execution_count": 12,
   "id": "e06baf32",
   "metadata": {},
   "outputs": [
    {
     "name": "stdout",
     "output_type": "stream",
     "text": [
      "              precision    recall  f1-score   support\n",
      "\n",
      "    negative       0.32      0.32      0.32       604\n",
      "     neutral       0.64      0.50      0.56      2879\n",
      "    positive       0.36      0.52      0.43      1363\n",
      "\n",
      "    accuracy                           0.49      4846\n",
      "   macro avg       0.44      0.45      0.44      4846\n",
      "weighted avg       0.52      0.49      0.49      4846\n",
      "\n"
     ]
    }
   ],
   "source": [
    "print(classification_report(df['sentiment'],result_list))#точность первого способа выбора neutral"
   ]
  },
  {
   "cell_type": "code",
   "execution_count": 14,
   "id": "28cc04d0",
   "metadata": {},
   "outputs": [
    {
     "name": "stdout",
     "output_type": "stream",
     "text": [
      "              precision    recall  f1-score   support\n",
      "\n",
      "    negative       0.38      0.08      0.13       604\n",
      "     neutral       0.60      0.87      0.71      2879\n",
      "    positive       0.37      0.14      0.20      1363\n",
      "\n",
      "    accuracy                           0.57      4846\n",
      "   macro avg       0.45      0.36      0.35      4846\n",
      "weighted avg       0.51      0.57      0.49      4846\n",
      "\n"
     ]
    }
   ],
   "source": [
    "print(classification_report(df['sentiment'],result_list_1))#точность второго способа выбора neutral"
   ]
  },
  {
   "cell_type": "code",
   "execution_count": 15,
   "id": "b9e98b7a",
   "metadata": {},
   "outputs": [],
   "source": [
    "cm_0 = confusion_matrix(result_list,df['sentiment'], labels = ['neutral','positive','negative'])\n",
    "#confusion martix первого способа выбора neutral"
   ]
  },
  {
   "cell_type": "code",
   "execution_count": 16,
   "id": "7fc89b85",
   "metadata": {},
   "outputs": [
    {
     "data": {
      "text/plain": [
       "array([[1447,  538,  290],\n",
       "       [1141,  715,  123],\n",
       "       [ 291,  110,  191]], dtype=int64)"
      ]
     },
     "execution_count": 16,
     "metadata": {},
     "output_type": "execute_result"
    }
   ],
   "source": [
    "cm_0"
   ]
  },
  {
   "cell_type": "code",
   "execution_count": 17,
   "id": "322beacf",
   "metadata": {},
   "outputs": [
    {
     "data": {
      "text/plain": [
       "Text(50.722222222222214, 0.5, 'actual')"
      ]
     },
     "execution_count": 17,
     "metadata": {},
     "output_type": "execute_result"
    },
    {
     "data": {
      "image/png": "[encoded data removed]",
      "text/plain": [
       "<Figure size 640x480 with 2 Axes>"
      ]
     },
     "metadata": {},
     "output_type": "display_data"
    }
   ],
   "source": [
    "sns.heatmap(cm_0,\n",
    "            annot= True,\n",
    "            xticklabels = ['neutral','positive','negative'],\n",
    "            yticklabels = ['neutral','positive','negative'],\n",
    "            fmt = ' d')\n",
    "plt.title('confusion')\n",
    "plt.xlabel('predicted')\n",
    "plt.ylabel('actual')"
   ]
  },
  {
   "cell_type": "code",
   "execution_count": 18,
   "id": "60ced7b6",
   "metadata": {},
   "outputs": [],
   "source": [
    "cm_1 = confusion_matrix(result_list_1,df['sentiment'], labels = ['neutral','positive','negative'])\n",
    "#confusion martix второго способа выбора neutral"
   ]
  },
  {
   "cell_type": "code",
   "execution_count": 19,
   "id": "abd65917",
   "metadata": {},
   "outputs": [
    {
     "data": {
      "text/plain": [
       "array([[2509, 1151,  541],\n",
       "       [ 313,  192,   15],\n",
       "       [  57,   20,   48]], dtype=int64)"
      ]
     },
     "execution_count": 19,
     "metadata": {},
     "output_type": "execute_result"
    }
   ],
   "source": [
    "cm_1"
   ]
  },
  {
   "cell_type": "code",
   "execution_count": 20,
   "id": "ce9159b3",
   "metadata": {},
   "outputs": [
    {
     "data": {
      "text/plain": [
       "Text(50.722222222222214, 0.5, 'actual')"
      ]
     },
     "execution_count": 20,
     "metadata": {},
     "output_type": "execute_result"
    },
    {
     "data": {
      "image/png": "[encoded data removed]",
      "text/plain": [
       "<Figure size 640x480 with 2 Axes>"
      ]
     },
     "metadata": {},
     "output_type": "display_data"
    }
   ],
   "source": [
    "sns.heatmap(cm_1,\n",
    "            annot= True,\n",
    "            xticklabels = ['neutral','positive','negative'],\n",
    "            yticklabels = ['neutral','positive','negative'],\n",
    "            fmt = ' d')\n",
    "plt.title('confusion')\n",
    "plt.xlabel('predicted')\n",
    "plt.ylabel('actual')"
   ]
  }
 ],
 "metadata": {
  "kernelspec": {
   "display_name": "Python 3 (ipykernel)",
   "language": "python",
   "name": "python3"
  },
  "language_info": {
   "codemirror_mode": {
    "name": "ipython",
    "version": 3
   },
   "file_extension": ".py",
   "mimetype": "text/x-python",
   "name": "python",
   "nbconvert_exporter": "python",
   "pygments_lexer": "ipython3",
   "version": "3.10.9"
  }
 },
 "nbformat": 4,
 "nbformat_minor": 5
}
