{
  "nbformat": 4,
  "nbformat_minor": 0,
  "metadata": {
    "colab": {
      "provenance": [],
      "authorship_tag": "ABX9TyPcwnbCWVNp6D8TP56wQfFp"
    },
    "kernelspec": {
      "name": "python3",
      "display_name": "Python 3"
    },
    "language_info": {
      "name": "python"
    }
  },
  "cells": [
    {
      "cell_type": "code",
      "source": [
        "%pip install transformers\n"
      ],
      "metadata": {
        "id": "Eb7_Pjo_87yM"
      },
      "execution_count": null,
      "outputs": []
    },
    {
      "cell_type": "code",
      "execution_count": 3,
      "metadata": {
        "colab": {
          "base_uri": "https://localhost:8080/"
        },
        "id": "9t71IN74TFx1",
        "outputId": "20d7c2f9-8b0f-4ad9-f027-ac0cdfe9286a"
      },
      "outputs": [
        {
          "output_type": "stream",
          "name": "stdout",
          "text": [
            "Mounted at /content/drive/\n"
          ]
        }
      ],
      "source": [
        "import numpy as np\n",
        "import pandas as pd\n",
        "import seaborn as sns\n",
        "import matplotlib.pyplot as plt\n",
        "\n",
        "from sklearn.metrics import confusion_matrix\n",
        "from transformers import BertTokenizer, BertForSequenceClassification\n",
        "from tqdm import trange\n",
        "from google.colab import drive #подключение возможности брать данные с google диска\n",
        "drive.mount('/content/drive/')\n",
        "from sklearn.metrics import classification_report"
      ]
    },
    {
      "cell_type": "code",
      "source": [
        "finbert = BertForSequenceClassification.from_pretrained('yiyanghkust/finbert-tone',num_labels=3)\n",
        "tokenizer = BertTokenizer.from_pretrained('yiyanghkust/finbert-tone')"
      ],
      "metadata": {
        "id": "vt9GiViOTjU_"
      },
      "execution_count": null,
      "outputs": []
    },
    {
      "cell_type": "code",
      "source": [
        "%cd /content/drive/MyDrive/\n",
        "#вход в директорию, где содержится тестовый датасет"
      ],
      "metadata": {
        "colab": {
          "base_uri": "https://localhost:8080/"
        },
        "id": "zqfrcIZyVi0Q",
        "outputId": "f26e1248-e74b-42af-a238-51fdc04c76cf"
      },
      "execution_count": 5,
      "outputs": [
        {
          "output_type": "stream",
          "name": "stdout",
          "text": [
            "/content/drive/MyDrive\n"
          ]
        }
      ]
    },
    {
      "cell_type": "code",
      "source": [
        "df = pd.read_csv('news.csv', encoding = 'ISO-8859-1')#у тестового датасета есть какая-то кодировка"
      ],
      "metadata": {
        "id": "ltNGOyB0WbPz"
      },
      "execution_count": 6,
      "outputs": []
    },
    {
      "cell_type": "markdown",
      "source": [
        "Данные в тестовом датасете представляют собой текст некоторой длины и заранее определённую метку.\n",
        "Согласно описанию на hugginface классификация осуществляется по 3 меткам: positive, neutral и negative.\n",
        "Тестовый датасет предназначен для работы с finbert, т.к размечен под него.\n",
        "\n",
        "**Пример данных**:\n",
        "\n",
        " **text** {treatment products in Usa , Canada , Mexico , Australia and Brazil Today , Global Research & Data Services is going to publish several market analyses about the markets for water treatment products in some selected countries .}\n",
        "\n",
        "**sentiment** {negative}"
      ],
      "metadata": {
        "id": "wTWbfWI9EFeT"
      }
    },
    {
      "cell_type": "code",
      "source": [
        "headlines = df['headline'].to_list()\n"
      ],
      "metadata": {
        "id": "104uAUC_WoAz"
      },
      "execution_count": 7,
      "outputs": []
    },
    {
      "cell_type": "code",
      "source": [
        "df"
      ],
      "metadata": {
        "colab": {
          "base_uri": "https://localhost:8080/",
          "height": 423
        },
        "id": "AW0pcOi6XBEx",
        "outputId": "8fa56b81-7b94-4129-e996-98bb873ac873"
      },
      "execution_count": 8,
      "outputs": [
        {
          "output_type": "execute_result",
          "data": {
            "text/plain": [
              "     sentiment                                           headline\n",
              "0      neutral  According to Gran , the company has no plans t...\n",
              "1      neutral  Technopolis plans to develop in stages an area...\n",
              "2     negative  The international electronic industry company ...\n",
              "3     positive  With the new production plant the company woul...\n",
              "4     positive  According to the company 's updated strategy f...\n",
              "...        ...                                                ...\n",
              "4841  negative  LONDON MarketWatch -- Share prices ended lower...\n",
              "4842   neutral  Rinkuskiai 's beer sales fell by 6.5 per cent ...\n",
              "4843  negative  Operating profit fell to EUR 35.4 mn from EUR ...\n",
              "4844  negative  Net sales of the Paper segment decreased to EU...\n",
              "4845  negative  Sales in Finland decreased by 10.5 % in Januar...\n",
              "\n",
              "[4846 rows x 2 columns]"
            ],
            "text/html": [
              "\n",
              "  <div id=\"df-3a77aaa4-3fb3-401f-b9c8-37b37d195c8e\" class=\"colab-df-container\">\n",
              "    <div>\n",
              "<style scoped>\n",
              "    .dataframe tbody tr th:only-of-type {\n",
              "        vertical-align: middle;\n",
              "    }\n",
              "\n",
              "    .dataframe tbody tr th {\n",
              "        vertical-align: top;\n",
              "    }\n",
              "\n",
              "    .dataframe thead th {\n",
              "        text-align: right;\n",
              "    }\n",
              "</style>\n",
              "<table border=\"1\" class=\"dataframe\">\n",
              "  <thead>\n",
              "    <tr style=\"text-align: right;\">\n",
              "      <th></th>\n",
              "      <th>sentiment</th>\n",
              "      <th>headline</th>\n",
              "    </tr>\n",
              "  </thead>\n",
              "  <tbody>\n",
              "    <tr>\n",
              "      <th>0</th>\n",
              "      <td>neutral</td>\n",
              "      <td>According to Gran , the company has no plans t...</td>\n",
              "    </tr>\n",
              "    <tr>\n",
              "      <th>1</th>\n",
              "      <td>neutral</td>\n",
              "      <td>Technopolis plans to develop in stages an area...</td>\n",
              "    </tr>\n",
              "    <tr>\n",
              "      <th>2</th>\n",
              "      <td>negative</td>\n",
              "      <td>The international electronic industry company ...</td>\n",
              "    </tr>\n",
              "    <tr>\n",
              "      <th>3</th>\n",
              "      <td>positive</td>\n",
              "      <td>With the new production plant the company woul...</td>\n",
              "    </tr>\n",
              "    <tr>\n",
              "      <th>4</th>\n",
              "      <td>positive</td>\n",
              "      <td>According to the company 's updated strategy f...</td>\n",
              "    </tr>\n",
              "    <tr>\n",
              "      <th>...</th>\n",
              "      <td>...</td>\n",
              "      <td>...</td>\n",
              "    </tr>\n",
              "    <tr>\n",
              "      <th>4841</th>\n",
              "      <td>negative</td>\n",
              "      <td>LONDON MarketWatch -- Share prices ended lower...</td>\n",
              "    </tr>\n",
              "    <tr>\n",
              "      <th>4842</th>\n",
              "      <td>neutral</td>\n",
              "      <td>Rinkuskiai 's beer sales fell by 6.5 per cent ...</td>\n",
              "    </tr>\n",
              "    <tr>\n",
              "      <th>4843</th>\n",
              "      <td>negative</td>\n",
              "      <td>Operating profit fell to EUR 35.4 mn from EUR ...</td>\n",
              "    </tr>\n",
              "    <tr>\n",
              "      <th>4844</th>\n",
              "      <td>negative</td>\n",
              "      <td>Net sales of the Paper segment decreased to EU...</td>\n",
              "    </tr>\n",
              "    <tr>\n",
              "      <th>4845</th>\n",
              "      <td>negative</td>\n",
              "      <td>Sales in Finland decreased by 10.5 % in Januar...</td>\n",
              "    </tr>\n",
              "  </tbody>\n",
              "</table>\n",
              "<p>4846 rows × 2 columns</p>\n",
              "</div>\n",
              "    <div class=\"colab-df-buttons\">\n",
              "\n",
              "  <div class=\"colab-df-container\">\n",
              "    <button class=\"colab-df-convert\" onclick=\"convertToInteractive('df-3a77aaa4-3fb3-401f-b9c8-37b37d195c8e')\"\n",
              "            title=\"Convert this dataframe to an interactive table.\"\n",
              "            style=\"display:none;\">\n",
              "\n",
              "  <svg xmlns=\"http://www.w3.org/2000/svg\" height=\"24px\" viewBox=\"0 -960 960 960\">\n",
              "    <path d=\"M120-120v-720h720v720H120Zm60-500h600v-160H180v160Zm220 220h160v-160H400v160Zm0 220h160v-160H400v160ZM180-400h160v-160H180v160Zm440 0h160v-160H620v160ZM180-180h160v-160H180v160Zm440 0h160v-160H620v160Z\"/>\n",
              "  </svg>\n",
              "    </button>\n",
              "\n",
              "  <style>\n",
              "    .colab-df-container {\n",
              "      display:flex;\n",
              "      gap: 12px;\n",
              "    }\n",
              "\n",
              "    .colab-df-convert {\n",
              "      background-color: #E8F0FE;\n",
              "      border: none;\n",
              "      border-radius: 50%;\n",
              "      cursor: pointer;\n",
              "      display: none;\n",
              "      fill: #1967D2;\n",
              "      height: 32px;\n",
              "      padding: 0 0 0 0;\n",
              "      width: 32px;\n",
              "    }\n",
              "\n",
              "    .colab-df-convert:hover {\n",
              "      background-color: #E2EBFA;\n",
              "      box-shadow: 0px 1px 2px rgba(60, 64, 67, 0.3), 0px 1px 3px 1px rgba(60, 64, 67, 0.15);\n",
              "      fill: #174EA6;\n",
              "    }\n",
              "\n",
              "    .colab-df-buttons div {\n",
              "      margin-bottom: 4px;\n",
              "    }\n",
              "\n",
              "    [theme=dark] .colab-df-convert {\n",
              "      background-color: #3B4455;\n",
              "      fill: #D2E3FC;\n",
              "    }\n",
              "\n",
              "    [theme=dark] .colab-df-convert:hover {\n",
              "      background-color: #434B5C;\n",
              "      box-shadow: 0px 1px 3px 1px rgba(0, 0, 0, 0.15);\n",
              "      filter: drop-shadow(0px 1px 2px rgba(0, 0, 0, 0.3));\n",
              "      fill: #FFFFFF;\n",
              "    }\n",
              "  </style>\n",
              "\n",
              "    <script>\n",
              "      const buttonEl =\n",
              "        document.querySelector('#df-3a77aaa4-3fb3-401f-b9c8-37b37d195c8e button.colab-df-convert');\n",
              "      buttonEl.style.display =\n",
              "        google.colab.kernel.accessAllowed ? 'block' : 'none';\n",
              "\n",
              "      async function convertToInteractive(key) {\n",
              "        const element = document.querySelector('#df-3a77aaa4-3fb3-401f-b9c8-37b37d195c8e');\n",
              "        const dataTable =\n",
              "          await google.colab.kernel.invokeFunction('convertToInteractive',\n",
              "                                                    [key], {});\n",
              "        if (!dataTable) return;\n",
              "\n",
              "        const docLinkHtml = 'Like what you see? Visit the ' +\n",
              "          '<a target=\"_blank\" href=https://colab.research.google.com/notebooks/data_table.ipynb>data table notebook</a>'\n",
              "          + ' to learn more about interactive tables.';\n",
              "        element.innerHTML = '';\n",
              "        dataTable['output_type'] = 'display_data';\n",
              "        await google.colab.output.renderOutput(dataTable, element);\n",
              "        const docLink = document.createElement('div');\n",
              "        docLink.innerHTML = docLinkHtml;\n",
              "        element.appendChild(docLink);\n",
              "      }\n",
              "    </script>\n",
              "  </div>\n",
              "\n",
              "\n",
              "<div id=\"df-b51d0356-4605-41cd-8a1a-70fa1a7888d2\">\n",
              "  <button class=\"colab-df-quickchart\" onclick=\"quickchart('df-b51d0356-4605-41cd-8a1a-70fa1a7888d2')\"\n",
              "            title=\"Suggest charts.\"\n",
              "            style=\"display:none;\">\n",
              "\n",
              "<svg xmlns=\"http://www.w3.org/2000/svg\" height=\"24px\"viewBox=\"0 0 24 24\"\n",
              "     width=\"24px\">\n",
              "    <g>\n",
              "        <path d=\"M19 3H5c-1.1 0-2 .9-2 2v14c0 1.1.9 2 2 2h14c1.1 0 2-.9 2-2V5c0-1.1-.9-2-2-2zM9 17H7v-7h2v7zm4 0h-2V7h2v10zm4 0h-2v-4h2v4z\"/>\n",
              "    </g>\n",
              "</svg>\n",
              "  </button>\n",
              "\n",
              "<style>\n",
              "  .colab-df-quickchart {\n",
              "      --bg-color: #E8F0FE;\n",
              "      --fill-color: #1967D2;\n",
              "      --hover-bg-color: #E2EBFA;\n",
              "      --hover-fill-color: #174EA6;\n",
              "      --disabled-fill-color: #AAA;\n",
              "      --disabled-bg-color: #DDD;\n",
              "  }\n",
              "\n",
              "  [theme=dark] .colab-df-quickchart {\n",
              "      --bg-color: #3B4455;\n",
              "      --fill-color: #D2E3FC;\n",
              "      --hover-bg-color: #434B5C;\n",
              "      --hover-fill-color: #FFFFFF;\n",
              "      --disabled-bg-color: #3B4455;\n",
              "      --disabled-fill-color: #666;\n",
              "  }\n",
              "\n",
              "  .colab-df-quickchart {\n",
              "    background-color: var(--bg-color);\n",
              "    border: none;\n",
              "    border-radius: 50%;\n",
              "    cursor: pointer;\n",
              "    display: none;\n",
              "    fill: var(--fill-color);\n",
              "    height: 32px;\n",
              "    padding: 0;\n",
              "    width: 32px;\n",
              "  }\n",
              "\n",
              "  .colab-df-quickchart:hover {\n",
              "    background-color: var(--hover-bg-color);\n",
              "    box-shadow: 0 1px 2px rgba(60, 64, 67, 0.3), 0 1px 3px 1px rgba(60, 64, 67, 0.15);\n",
              "    fill: var(--button-hover-fill-color);\n",
              "  }\n",
              "\n",
              "  .colab-df-quickchart-complete:disabled,\n",
              "  .colab-df-quickchart-complete:disabled:hover {\n",
              "    background-color: var(--disabled-bg-color);\n",
              "    fill: var(--disabled-fill-color);\n",
              "    box-shadow: none;\n",
              "  }\n",
              "\n",
              "  .colab-df-spinner {\n",
              "    border: 2px solid var(--fill-color);\n",
              "    border-color: transparent;\n",
              "    border-bottom-color: var(--fill-color);\n",
              "    animation:\n",
              "      spin 1s steps(1) infinite;\n",
              "  }\n",
              "\n",
              "  @keyframes spin {\n",
              "    0% {\n",
              "      border-color: transparent;\n",
              "      border-bottom-color: var(--fill-color);\n",
              "      border-left-color: var(--fill-color);\n",
              "    }\n",
              "    20% {\n",
              "      border-color: transparent;\n",
              "      border-left-color: var(--fill-color);\n",
              "      border-top-color: var(--fill-color);\n",
              "    }\n",
              "    30% {\n",
              "      border-color: transparent;\n",
              "      border-left-color: var(--fill-color);\n",
              "      border-top-color: var(--fill-color);\n",
              "      border-right-color: var(--fill-color);\n",
              "    }\n",
              "    40% {\n",
              "      border-color: transparent;\n",
              "      border-right-color: var(--fill-color);\n",
              "      border-top-color: var(--fill-color);\n",
              "    }\n",
              "    60% {\n",
              "      border-color: transparent;\n",
              "      border-right-color: var(--fill-color);\n",
              "    }\n",
              "    80% {\n",
              "      border-color: transparent;\n",
              "      border-right-color: var(--fill-color);\n",
              "      border-bottom-color: var(--fill-color);\n",
              "    }\n",
              "    90% {\n",
              "      border-color: transparent;\n",
              "      border-bottom-color: var(--fill-color);\n",
              "    }\n",
              "  }\n",
              "</style>\n",
              "\n",
              "  <script>\n",
              "    async function quickchart(key) {\n",
              "      const quickchartButtonEl =\n",
              "        document.querySelector('#' + key + ' button');\n",
              "      quickchartButtonEl.disabled = true;  // To prevent multiple clicks.\n",
              "      quickchartButtonEl.classList.add('colab-df-spinner');\n",
              "      try {\n",
              "        const charts = await google.colab.kernel.invokeFunction(\n",
              "            'suggestCharts', [key], {});\n",
              "      } catch (error) {\n",
              "        console.error('Error during call to suggestCharts:', error);\n",
              "      }\n",
              "      quickchartButtonEl.classList.remove('colab-df-spinner');\n",
              "      quickchartButtonEl.classList.add('colab-df-quickchart-complete');\n",
              "    }\n",
              "    (() => {\n",
              "      let quickchartButtonEl =\n",
              "        document.querySelector('#df-b51d0356-4605-41cd-8a1a-70fa1a7888d2 button');\n",
              "      quickchartButtonEl.style.display =\n",
              "        google.colab.kernel.accessAllowed ? 'block' : 'none';\n",
              "    })();\n",
              "  </script>\n",
              "</div>\n",
              "    </div>\n",
              "  </div>\n"
            ]
          },
          "metadata": {},
          "execution_count": 8
        }
      ]
    },
    {
      "cell_type": "code",
      "source": [
        "labels = {0:'neutral', 1:'positive',2:'negative'} #объявление меток для классификациии"
      ],
      "metadata": {
        "id": "d5JaScF8XLsk"
      },
      "execution_count": 9,
      "outputs": []
    },
    {
      "cell_type": "code",
      "source": [
        "result = []#тут происходит классификация\n",
        "for i in trange(len(headlines)):\n",
        "    inputs = tokenizer(headlines[i], return_tensors = \"pt\", padding=True)\n",
        "    outputs = finbert(**inputs)[0]\n",
        "    #print(outputs)\n",
        "    val = labels[np.argmax(outputs.detach().numpy())]#finbert возвращает PyTorch Tensor, который переводится в numpy array\n",
        "    result.append(val)\n",
        "   #print(headlines[i],'\\n','#',val,'#')"
      ],
      "metadata": {
        "id": "tu10FiT4W1MI"
      },
      "execution_count": null,
      "outputs": []
    },
    {
      "cell_type": "markdown",
      "source": [
        "## Пример выходных данных\n",
        "![image.png](data:image/png;base64,iVBORw0KGgoAAAANSUhEUgAAAmkAAAA1CAYAAAAaonx3AAAAAXNSR0IArs4c6QAAAARnQU1BAACxjwv8YQUAAAAJcEhZcwAAEnQAABJ0Ad5mH3gAABFSSURBVHhe7Z1NqG5jG8fXeXuZ+Ix0TEiE8pEy0klRjEj5KEyMJCmlFANkIAycKKUkMbAHPgZSooQy8TEQ+SyFlAES5WCAwXnf3zrPf7v2te+1nrXW8zx73/vs/6+W/az1rHWv+77u6+u+1nqOPaeeeurBxhhjzEJcfPHFzaefftocOHBgdsQYYxbjP7O/xhhjjDGmIpykGWOMMcZUiJM0Y4wxxpgK2XPRRRf5nTRjjDHGmMpwJc0YY4wxpkKcpBljjDHGVIiTNGOMMcaYCnGSZowxxhhTIU7SjDHGGGMqxEmaMcYYY0yFOEkzxhhjjKkQJ2nGGGOMMRXiJM0YY4wxpkKcpBljjDHGVIiTNGOMMcaYCnGSZowxxhhTIbv+f7B++umnN3fccUfz1ltvNa+++urs6CHuueee5owzzpjtNc0333zTPPzww7O9Q+j6o48+enakaV555ZVNbRljdi633HJL839fOdtrmh9//LF57LHHml9++WV25BBDfMbhCOM+6qijijIZylVXXdVcffXVs72m+eOPP5rHH3+8+fbbb2dHdgaM44orrmjW1taa9957b3Z0M8uQWU0oFn7++efN008/PTtaL0PnaSr79u1rbrzxxuaFF15YqP0NlTSEjFHgkHYDJ554YnPzzTe3zqBLiDjju+++uz2vz9l+8MEH7TlsTtCMObwg6Mi+Sby6wEdwDj4D32GGoQQt+lEC/k5L0IwR5BT4gBtuuKHNraayoZK20zLhRWEls3fv3s7V2pCVzipkllfji1bmVAUorUyHVggEq4ObbrqpOfLIIzf0S3KIFUWx3ZXFPEYxb6wl8mpfdK36o7wg3rMks7///ru4ssvtAAGtJjvt07OhZPnmStRYPZPcoCTXUnvz9HWIX2ABeOeddzZ//vmnK2kDmOeLt4uoH0PtrYZKWpefWqXPkKx2eiUtx99FZCY/AFPnede+k4bzPuWUU9rHnLU4Bfr05JNPtp+1mmRbJMGhzQsvvHC2txGC6mmnnbZeKXzooYdaZ4RSoVwZjl155ZUbEoVMXAkvo//LgsSB8cV+3XvvvZOMhkTqmWee2dAWzinrEcZOgoATKN2T87kutvP999+31zBvAmfCd6+//vr6eSQSJETMYQ306dlQGAtOU7JFLwlizFvWx3l6xvlch75+8cUXs6MbUVDBB6gN2iW4IXOztWCjv/3222xv60APSA5Lc37uuee2f7/88svWV5b8Yq1kP1Wbz6gN+QwWC4oVJZlJX4bIEV//2muvNSeccEJz7bXXzo6O47/8h5vFSgOf437OJHOWnle7OGw9i7300kvXs9JS5YJzY4WgaxWe+5jvGbPieM+u9jjn119/7V3pbCVKgAjSy1x5a5w//PBDc+aZZ86OHiKvDpARqyCC7dlnn12s5qBs77zzzoYkwmwGfWQRgD6O0TFkiz3EYHD++ee3thPb4TP2cNJJJ82ObC99ejYE9Am9IxHVOPETSpr4fkyyf+uttzbfffddq+NdzlRJcuTtt99uzjvvvFbmNSwuhpBX/kI+MlY40KPou3PVMPv2of4YaHsVMPdD48lYaBt7I6EpJfPowU8//dS8//77bR+6/GKMYUB7mT6ZaYxvvvlmc/nll7dtrYVYprFyHt+zsCDecZ9nn322uf7665uTTz55U1yMdPmM3H/a5N55nPgkFvDcB7rOi8S233jjjeaCCy7orC7rXHyAdDLr9iJxP/ZFxHnie+Ibbek6+sF48QnYEcfZsCXJcl68Rj70LbYxhraShiMjayR7ZHB5lRqDOYoWV7vKPBFm5Igjjmi///nnn9fPo0qD8xQS2kcffbR+rxdffLG55pprZmf8m90yQGW3uid/YzBD+HwP/GUlznj4HM9DUFyPE1/EwJeJFIQgvSyUKJDJ//XXX7Oj00BmOAfmCkMx3aBrGDAJd58DGwO2c9xxx832mvYzx7Cv7WYZeib7zPZI4MSGFRiGguPMi5DDEfxuXvkDPjwHD3QSG9a5nIMvx/cAf88666z2u+g/SfCwf8E9oz9mm+ITiCXEETaCK3P8yCOPrB+LyfWQeDIW9Ja2WFw88MADm4Kn4sRnn33WfPXVV83vv/++XlkTaiNXuTNDZXbJJZe0iQF9UuWF9ogNJIhAnGMun3vuuXafGEosYz7pb5yreXAuCcR999233q9SNZ/PDz74YPtZT164hoVVjK0RrqEdxsI1L730UpugUR3vuuaff/5Z9wHMP7JXv9AJ/EzONYbE/SHzREJOX5lrgXyYN3Qtzj2+hevRW+a0azyCceQ2hjLqcac6TKBW8EGxyeoRXpxUQAnlKDmPFUmcIP2NKxjaffTRR2d7/yYvJG8yIt0To873jM6JyUZ5c4BDUExs12OQ7YCxkNUz6XJSbEMUoARzpaRqTKLAyoB+5FUxqzwU/+WXX54dKYPziP3HOGoAHeBR46JyBTkFtcWKLTpGJVAHDhxo76Pz2PrkQX+opuIo4pxRQYC77rqr1XfuReAcMh+rZqqeZeSYu+Ykr/5XpWfYIfNbQ/I7D2RPUGZVL9/IHGC7pUdzHI/JiPyfzsu+lznBn8bggv7h65fxmoiKA2zECvqnBIAtJ9l98YQt21rcsr2TAFAxZHxdrz1ozMiJ70kwolz5ix7Sr76q61CZkYhi+x9//PH6vmwfndR9+UxcY/zAwkh+gO+6FjQkfbkQQH+Il3H8+j4mFCRy9C1WLvn7xBNPFGWHbvLCfL4m2hXn4DuVjDO+gwcPrsce5jrKFf0kgSwlon1xf8g8cQ66xByrr8wbPvfDDz8sLhRpC91Cpvfff/+mPkWmLjZhVJLWldxoUFIiQfbYh67LWXuE7LaUNHQNOp/HRBPQonFwTanN7YQghFJhzHJSOBaOdb0j1sdll13W/uXxzVAIdCSJGH+Ul5wMhqA5y3A+clbf2TgfRxhXxNtBDAZskus8wyqBYca2tGpTAgXoF3aCvVBd0rmSR0womFcFF6oI9IvPUc6SLQ6KdggqzNHUd+qWyRQ9K8HqFYdOwhfnhMUBMhGr1DPmgiQZso+rEelZiRhsRD5G0Lvtttt6EwzOj4+E0Gn2t0M+ffGEfmIPUS/iFm2FSgxBm0pITgQjetQpX8j9Y0WLv+zPi3NjZBbbwq+U3tHLbZXmGtANxq5ElTHH1wm6IC7GOcceSYyGPnk69thj1xeR+XE0bWPPJE/SXyW+OZaX6Fo89cX9ofMUwZeQZO7fv7959913Z0c3gyw5B2IMyDCPyCMvNocwKkmTUOPEs7Hf5Sz60ABRCLWZqxLQpawwZdC1wji1cgIUjNVXdAxDQFEoQ49Z7ZI4EOhQ9qeeemp29N/ARYLQ58xLsLqjvVW+cEu/oy6y5VVzRnLFWcTV4hRwQCRikNvK1SXJA+cvuD4GF/rFfkw4sAfsAkephI6kmR+ZdDmFRUF+ulfcYoI5Rc+6QA44dGyA8et+6B3H+ipby9AzrtP7NkMCWQ3QR+TD0w35TOaEMYwJSBESmDjfU317rSAfbGceSkyi3pEYEauoKu0E6KvmUPGVx9v5cSG+Js459hcXRor7ORHq4pxzzmmvLyWP7O/Zs6dtE3/59ddft8f1pCvGevm92DcSzVWDfPAlpUfgfSCjVejGqCSNScoTH7exQRwQglbGrGyYXPZzotbFTngsMYRljYNgMzapwnFhvBgIcxsNixI5cxKTx6HQDobK9fFx8zLJlS22uGrugu/RZZzFosgutGDQ/hQYD2V5JRxsjAlwWNhLXNww11MTkz6QT0wetUmnpujZPEr3RBbzAsQy9Ix3m9AFqnLLGs+qYQ54RMO4ldiy0MKPThkDwYkEJvp3Pk/V5a0EWZQWFdq0cMN2qB6q+poTFkECgVxJCtSGkpfS47adAGNn4cgca3FHgqaqouYcWRELhPzZUF+JbPW+Vkm+PMZlLqi4ffLJJ+0x5I3/VGKHfFWNi4/AaXsVyIfQZ4gxpC9JRY5U0AC55fdAl8GGJG1eSU6dRsCrAMfC5CIQKUQuMQsmlfOmlN0RdrxHDXT1iX0MJCuIKkhyPkKl3fxuG4YoZx6rlSgZj5u5h5IAQbskCzEIsGEs9BUnx36srkS4Bw4tPz4F7kslKPZlK1HVq6Q/OBbGNfTxmRy6qhdddkQCwXljEnJdQ3uxmqx78F1OTMb2fwpj9QymzDmyze/oZfr0bAjIi3EQAPoefy0TbEtJRZf9zAN5Mge0oSDGNiVBkwxJuvtkXfJT9GNIdWqVEJvQuSiHuMWgC8yzEonsQ4FqN2ONCQIb16Df6CXf5+SFdnK1pzaZKZ7Iv/O5b87la8ZUqtFB7An5Rj8kmR1//PGt7mKvPEbV0wX5RvlU2ojzNoWh84T/5rz84z36wvEcK7BbdAL/NK/qNsX3iw1JGsIgm4yZdoSJxIjjL4IWgcnLDiq/g8Y9EUKsGOBQeHdlnkPpQmVrhF8LpXEiYx4nxReDhZQ6J7C0w0oxOhY2lB1DwyHpWT3tdyVo0OX4CApco9VXKSgwBr6DUhWO73FcKK7ea9oq0DkMtPSyu4IVDHFKyBB7iC+lIjc5qKjfvF8Ffe9vYRNKGGiHOSH5wMFEm+Mzx3JiQn+prkB8DLZsxuiZwN405/Nsj3HQBmNA37oc9Tw9m8d2JGggpw3o4jw9KyGZTLk2o0Acq0QKQsyZyI/8OJd3d4gbOw3sFd3Ch8b3U+UDSu9gMX7khP+VbUY7oyJ7zDHHtL9SFLXITPFEPoOx0YcYQziHypB0EzgP+8DfxF/Tone33357p/5hT/hF9Ft+UHqGLLg3/UA+5BzYoeI+90RminOArebEaghD56kUgxUr8isd+GmKFIwvLwBKKOnU+MbQ/jtpEd5H4t0MOV2IDoxyHh2M3wM3zy8JzoM2ETyDFbRDVqp2+Eu79IkXq8UiTlWTpiA8ps+romucJEKlJIisH6VGqeJPhseAoeCA2VC0yNj5xLhJ+KJDlwKXwCBQ/ri6WRUKxALjxznnBA2kGxhUyUmj+9lRlOZI++i29DvrdklmnMPqPd4Xm5OdRFsp2QDXcTyeVws4Y4IE8udzJs9TaXxD9aw0T/JZ0m0Ck6oZnDtkXpcFeqZ/a2kq6C/OP+sFjLVfzsMmSKwlS9p4/vnnm+uuu67dB/rNL+2ZAy3W1tbW2n7gT3cayJBxMm7GwPj4i36VdFT+Qcms4qVkhs5SidGCDLZLZowhx+ms0znek0DxT3vE/gPXoCMaA2gcfTqm9tFPfD32rORUTx70oyGSRbXFvBCbuU73Q7ZUoki2xjJknrj3kBjMvNOHkn/qgmQTPSvFnHns2v/Bupw91ZQuQRM0qEr0OTsmDAPH4Q6dMHMIBdJVBsPdiHQShzsmUJthDPELBBicPQGp6z0V+SCeCEx5l6XLfhZt1xizPGSP8R/pHcOoHw4cTpDR4sRY2SNEs7Ugc2QfHxOa5cDqkFU0vzp1glYnJHE8VqEaMeUxLfDOI4l4rviwYqddY8z2IjunUjiliga7NkkDSqAIb9H/S70ZDkrLu0aU1qlieqW/PHh/gkcDPIrh159TnYJZLVTA9Dhl7M/8Izz6Kb3fR5LOcT1OMsZsD7z7hi3il6cumHft406hR0O8GJgrOvkdGao+OanQ9UyE8OM7Yw4v8jtuXe98DfEZy6T07h3VtdIPgbaCkj8s0SU/Yw4XeFrEgolK+SIL5l2fpBljjDHG1MiuftxpjDHGGFMrTtKMMcYYYyrESZoxxhhjTIU4STPGGGOMqRAnacYYY4wxFeIkzRhjjDGmQpykGWOMMcZUiJM0Y4wxxpgKcZJmjDHGGFMhTtKMMcYYYyrESZoxxhhjTIU4STPGGGOMqRAnacYYY4wxFeIkzRhjjDGmQpykGWOMMcZUiJM0Y4wxxpgKcZJmjDHGGFMhTtKMMcYYY6qjaf4H53PIj8tREEEAAAAASUVORK5CYII=)\n",
        "\n",
        "После чего необходимо взять максимум из полученного тензора."
      ],
      "metadata": {
        "id": "ENnUe04mHnhh"
      }
    },
    {
      "cell_type": "code",
      "source": [
        "pd.DataFrame(result).to_csv('out.csv', header = ['sentiment'], index = False)#экспорт результатов в csv"
      ],
      "metadata": {
        "id": "TOQX9bmPhRkQ"
      },
      "execution_count": 34,
      "outputs": []
    },
    {
      "cell_type": "code",
      "source": [
        "result_df = pd.read_csv('out.csv')#считывание датафрейма с результатами"
      ],
      "metadata": {
        "id": "SBkYuBZQGF2R"
      },
      "execution_count": 37,
      "outputs": []
    },
    {
      "cell_type": "code",
      "source": [
        "result_df"
      ],
      "metadata": {
        "colab": {
          "base_uri": "https://localhost:8080/",
          "height": 423
        },
        "id": "dFVDCOSzAc4v",
        "outputId": "b706d8da-26e0-418f-f64f-969ebb03065a"
      },
      "execution_count": 38,
      "outputs": [
        {
          "output_type": "execute_result",
          "data": {
            "text/plain": [
              "     sentiment\n",
              "0      neutral\n",
              "1      neutral\n",
              "2      neutral\n",
              "3     positive\n",
              "4     positive\n",
              "...        ...\n",
              "4841  negative\n",
              "4842  positive\n",
              "4843  negative\n",
              "4844  negative\n",
              "4845  negative\n",
              "\n",
              "[4846 rows x 1 columns]"
            ],
            "text/html": [
              "\n",
              "  <div id=\"df-af33dc37-7644-4a81-8fb1-a8bdc047d51d\" class=\"colab-df-container\">\n",
              "    <div>\n",
              "<style scoped>\n",
              "    .dataframe tbody tr th:only-of-type {\n",
              "        vertical-align: middle;\n",
              "    }\n",
              "\n",
              "    .dataframe tbody tr th {\n",
              "        vertical-align: top;\n",
              "    }\n",
              "\n",
              "    .dataframe thead th {\n",
              "        text-align: right;\n",
              "    }\n",
              "</style>\n",
              "<table border=\"1\" class=\"dataframe\">\n",
              "  <thead>\n",
              "    <tr style=\"text-align: right;\">\n",
              "      <th></th>\n",
              "      <th>sentiment</th>\n",
              "    </tr>\n",
              "  </thead>\n",
              "  <tbody>\n",
              "    <tr>\n",
              "      <th>0</th>\n",
              "      <td>neutral</td>\n",
              "    </tr>\n",
              "    <tr>\n",
              "      <th>1</th>\n",
              "      <td>neutral</td>\n",
              "    </tr>\n",
              "    <tr>\n",
              "      <th>2</th>\n",
              "      <td>neutral</td>\n",
              "    </tr>\n",
              "    <tr>\n",
              "      <th>3</th>\n",
              "      <td>positive</td>\n",
              "    </tr>\n",
              "    <tr>\n",
              "      <th>4</th>\n",
              "      <td>positive</td>\n",
              "    </tr>\n",
              "    <tr>\n",
              "      <th>...</th>\n",
              "      <td>...</td>\n",
              "    </tr>\n",
              "    <tr>\n",
              "      <th>4841</th>\n",
              "      <td>negative</td>\n",
              "    </tr>\n",
              "    <tr>\n",
              "      <th>4842</th>\n",
              "      <td>positive</td>\n",
              "    </tr>\n",
              "    <tr>\n",
              "      <th>4843</th>\n",
              "      <td>negative</td>\n",
              "    </tr>\n",
              "    <tr>\n",
              "      <th>4844</th>\n",
              "      <td>negative</td>\n",
              "    </tr>\n",
              "    <tr>\n",
              "      <th>4845</th>\n",
              "      <td>negative</td>\n",
              "    </tr>\n",
              "  </tbody>\n",
              "</table>\n",
              "<p>4846 rows × 1 columns</p>\n",
              "</div>\n",
              "    <div class=\"colab-df-buttons\">\n",
              "\n",
              "  <div class=\"colab-df-container\">\n",
              "    <button class=\"colab-df-convert\" onclick=\"convertToInteractive('df-af33dc37-7644-4a81-8fb1-a8bdc047d51d')\"\n",
              "            title=\"Convert this dataframe to an interactive table.\"\n",
              "            style=\"display:none;\">\n",
              "\n",
              "  <svg xmlns=\"http://www.w3.org/2000/svg\" height=\"24px\" viewBox=\"0 -960 960 960\">\n",
              "    <path d=\"M120-120v-720h720v720H120Zm60-500h600v-160H180v160Zm220 220h160v-160H400v160Zm0 220h160v-160H400v160ZM180-400h160v-160H180v160Zm440 0h160v-160H620v160ZM180-180h160v-160H180v160Zm440 0h160v-160H620v160Z\"/>\n",
              "  </svg>\n",
              "    </button>\n",
              "\n",
              "  <style>\n",
              "    .colab-df-container {\n",
              "      display:flex;\n",
              "      gap: 12px;\n",
              "    }\n",
              "\n",
              "    .colab-df-convert {\n",
              "      background-color: #E8F0FE;\n",
              "      border: none;\n",
              "      border-radius: 50%;\n",
              "      cursor: pointer;\n",
              "      display: none;\n",
              "      fill: #1967D2;\n",
              "      height: 32px;\n",
              "      padding: 0 0 0 0;\n",
              "      width: 32px;\n",
              "    }\n",
              "\n",
              "    .colab-df-convert:hover {\n",
              "      background-color: #E2EBFA;\n",
              "      box-shadow: 0px 1px 2px rgba(60, 64, 67, 0.3), 0px 1px 3px 1px rgba(60, 64, 67, 0.15);\n",
              "      fill: #174EA6;\n",
              "    }\n",
              "\n",
              "    .colab-df-buttons div {\n",
              "      margin-bottom: 4px;\n",
              "    }\n",
              "\n",
              "    [theme=dark] .colab-df-convert {\n",
              "      background-color: #3B4455;\n",
              "      fill: #D2E3FC;\n",
              "    }\n",
              "\n",
              "    [theme=dark] .colab-df-convert:hover {\n",
              "      background-color: #434B5C;\n",
              "      box-shadow: 0px 1px 3px 1px rgba(0, 0, 0, 0.15);\n",
              "      filter: drop-shadow(0px 1px 2px rgba(0, 0, 0, 0.3));\n",
              "      fill: #FFFFFF;\n",
              "    }\n",
              "  </style>\n",
              "\n",
              "    <script>\n",
              "      const buttonEl =\n",
              "        document.querySelector('#df-af33dc37-7644-4a81-8fb1-a8bdc047d51d button.colab-df-convert');\n",
              "      buttonEl.style.display =\n",
              "        google.colab.kernel.accessAllowed ? 'block' : 'none';\n",
              "\n",
              "      async function convertToInteractive(key) {\n",
              "        const element = document.querySelector('#df-af33dc37-7644-4a81-8fb1-a8bdc047d51d');\n",
              "        const dataTable =\n",
              "          await google.colab.kernel.invokeFunction('convertToInteractive',\n",
              "                                                    [key], {});\n",
              "        if (!dataTable) return;\n",
              "\n",
              "        const docLinkHtml = 'Like what you see? Visit the ' +\n",
              "          '<a target=\"_blank\" href=https://colab.research.google.com/notebooks/data_table.ipynb>data table notebook</a>'\n",
              "          + ' to learn more about interactive tables.';\n",
              "        element.innerHTML = '';\n",
              "        dataTable['output_type'] = 'display_data';\n",
              "        await google.colab.output.renderOutput(dataTable, element);\n",
              "        const docLink = document.createElement('div');\n",
              "        docLink.innerHTML = docLinkHtml;\n",
              "        element.appendChild(docLink);\n",
              "      }\n",
              "    </script>\n",
              "  </div>\n",
              "\n",
              "\n",
              "<div id=\"df-2429fefe-999c-48f5-9899-79d851cdde60\">\n",
              "  <button class=\"colab-df-quickchart\" onclick=\"quickchart('df-2429fefe-999c-48f5-9899-79d851cdde60')\"\n",
              "            title=\"Suggest charts.\"\n",
              "            style=\"display:none;\">\n",
              "\n",
              "<svg xmlns=\"http://www.w3.org/2000/svg\" height=\"24px\"viewBox=\"0 0 24 24\"\n",
              "     width=\"24px\">\n",
              "    <g>\n",
              "        <path d=\"M19 3H5c-1.1 0-2 .9-2 2v14c0 1.1.9 2 2 2h14c1.1 0 2-.9 2-2V5c0-1.1-.9-2-2-2zM9 17H7v-7h2v7zm4 0h-2V7h2v10zm4 0h-2v-4h2v4z\"/>\n",
              "    </g>\n",
              "</svg>\n",
              "  </button>\n",
              "\n",
              "<style>\n",
              "  .colab-df-quickchart {\n",
              "      --bg-color: #E8F0FE;\n",
              "      --fill-color: #1967D2;\n",
              "      --hover-bg-color: #E2EBFA;\n",
              "      --hover-fill-color: #174EA6;\n",
              "      --disabled-fill-color: #AAA;\n",
              "      --disabled-bg-color: #DDD;\n",
              "  }\n",
              "\n",
              "  [theme=dark] .colab-df-quickchart {\n",
              "      --bg-color: #3B4455;\n",
              "      --fill-color: #D2E3FC;\n",
              "      --hover-bg-color: #434B5C;\n",
              "      --hover-fill-color: #FFFFFF;\n",
              "      --disabled-bg-color: #3B4455;\n",
              "      --disabled-fill-color: #666;\n",
              "  }\n",
              "\n",
              "  .colab-df-quickchart {\n",
              "    background-color: var(--bg-color);\n",
              "    border: none;\n",
              "    border-radius: 50%;\n",
              "    cursor: pointer;\n",
              "    display: none;\n",
              "    fill: var(--fill-color);\n",
              "    height: 32px;\n",
              "    padding: 0;\n",
              "    width: 32px;\n",
              "  }\n",
              "\n",
              "  .colab-df-quickchart:hover {\n",
              "    background-color: var(--hover-bg-color);\n",
              "    box-shadow: 0 1px 2px rgba(60, 64, 67, 0.3), 0 1px 3px 1px rgba(60, 64, 67, 0.15);\n",
              "    fill: var(--button-hover-fill-color);\n",
              "  }\n",
              "\n",
              "  .colab-df-quickchart-complete:disabled,\n",
              "  .colab-df-quickchart-complete:disabled:hover {\n",
              "    background-color: var(--disabled-bg-color);\n",
              "    fill: var(--disabled-fill-color);\n",
              "    box-shadow: none;\n",
              "  }\n",
              "\n",
              "  .colab-df-spinner {\n",
              "    border: 2px solid var(--fill-color);\n",
              "    border-color: transparent;\n",
              "    border-bottom-color: var(--fill-color);\n",
              "    animation:\n",
              "      spin 1s steps(1) infinite;\n",
              "  }\n",
              "\n",
              "  @keyframes spin {\n",
              "    0% {\n",
              "      border-color: transparent;\n",
              "      border-bottom-color: var(--fill-color);\n",
              "      border-left-color: var(--fill-color);\n",
              "    }\n",
              "    20% {\n",
              "      border-color: transparent;\n",
              "      border-left-color: var(--fill-color);\n",
              "      border-top-color: var(--fill-color);\n",
              "    }\n",
              "    30% {\n",
              "      border-color: transparent;\n",
              "      border-left-color: var(--fill-color);\n",
              "      border-top-color: var(--fill-color);\n",
              "      border-right-color: var(--fill-color);\n",
              "    }\n",
              "    40% {\n",
              "      border-color: transparent;\n",
              "      border-right-color: var(--fill-color);\n",
              "      border-top-color: var(--fill-color);\n",
              "    }\n",
              "    60% {\n",
              "      border-color: transparent;\n",
              "      border-right-color: var(--fill-color);\n",
              "    }\n",
              "    80% {\n",
              "      border-color: transparent;\n",
              "      border-right-color: var(--fill-color);\n",
              "      border-bottom-color: var(--fill-color);\n",
              "    }\n",
              "    90% {\n",
              "      border-color: transparent;\n",
              "      border-bottom-color: var(--fill-color);\n",
              "    }\n",
              "  }\n",
              "</style>\n",
              "\n",
              "  <script>\n",
              "    async function quickchart(key) {\n",
              "      const quickchartButtonEl =\n",
              "        document.querySelector('#' + key + ' button');\n",
              "      quickchartButtonEl.disabled = true;  // To prevent multiple clicks.\n",
              "      quickchartButtonEl.classList.add('colab-df-spinner');\n",
              "      try {\n",
              "        const charts = await google.colab.kernel.invokeFunction(\n",
              "            'suggestCharts', [key], {});\n",
              "      } catch (error) {\n",
              "        console.error('Error during call to suggestCharts:', error);\n",
              "      }\n",
              "      quickchartButtonEl.classList.remove('colab-df-spinner');\n",
              "      quickchartButtonEl.classList.add('colab-df-quickchart-complete');\n",
              "    }\n",
              "    (() => {\n",
              "      let quickchartButtonEl =\n",
              "        document.querySelector('#df-2429fefe-999c-48f5-9899-79d851cdde60 button');\n",
              "      quickchartButtonEl.style.display =\n",
              "        google.colab.kernel.accessAllowed ? 'block' : 'none';\n",
              "    })();\n",
              "  </script>\n",
              "</div>\n",
              "    </div>\n",
              "  </div>\n"
            ]
          },
          "metadata": {},
          "execution_count": 38
        }
      ]
    },
    {
      "cell_type": "code",
      "source": [
        "print(classification_report(df['sentiment'],result_df['sentiment']))"
      ],
      "metadata": {
        "colab": {
          "base_uri": "https://localhost:8080/"
        },
        "id": "qTfqA53DGy46",
        "outputId": "d12f7007-f71b-4b26-a55d-61a08d01a765"
      },
      "execution_count": null,
      "outputs": [
        {
          "output_type": "stream",
          "name": "stdout",
          "text": [
            "              precision    recall  f1-score   support\n",
            "\n",
            "    negative       0.79      0.68      0.73       604\n",
            "     neutral       0.79      0.92      0.85      2879\n",
            "    positive       0.81      0.57      0.67      1363\n",
            "\n",
            "    accuracy                           0.79      4846\n",
            "   macro avg       0.80      0.73      0.75      4846\n",
            "weighted avg       0.79      0.79      0.78      4846\n",
            "\n"
          ]
        }
      ]
    },
    {
      "cell_type": "code",
      "source": [
        "cm = confusion_matrix(result_df['sentiment'],df['sentiment'], labels = ['neutral','positive','negative'])"
      ],
      "metadata": {
        "id": "6xFrg5zjIcHv"
      },
      "execution_count": 39,
      "outputs": []
    },
    {
      "cell_type": "code",
      "source": [
        "cm"
      ],
      "metadata": {
        "colab": {
          "base_uri": "https://localhost:8080/"
        },
        "id": "jgNVHVy6Kgxz",
        "outputId": "03ab2256-169b-4d85-baea-55eb0b5863e3"
      },
      "execution_count": 40,
      "outputs": [
        {
          "output_type": "execute_result",
          "data": {
            "text/plain": [
              "array([[2645,  533,  177],\n",
              "       [ 174,  783,   14],\n",
              "       [  60,   47,  413]])"
            ]
          },
          "metadata": {},
          "execution_count": 40
        }
      ]
    },
    {
      "cell_type": "code",
      "source": [
        "sns.heatmap(cm,\n",
        "            annot= True,\n",
        "            xticklabels = ['neutral','positive','negative'],\n",
        "            yticklabels = ['neutral','positive','negative'],\n",
        "            fmt = ' d')\n",
        "plt.title('CONFUSION')\n",
        "plt.xlabel('PREDICTED')\n",
        "plt.ylabel('ACTUAL')"
      ],
      "metadata": {
        "colab": {
          "base_uri": "https://localhost:8080/",
          "height": 489
        },
        "id": "Bsrv7TCeJovf",
        "outputId": "7ecd5a7e-0a5a-4232-83cf-2e02e3db4040"
      },
      "execution_count": 42,
      "outputs": [
        {
          "output_type": "execute_result",
          "data": {
            "text/plain": [
              "Text(50.722222222222214, 0.5, 'ACTUAL')"
            ]
          },
          "metadata": {},
          "execution_count": 42
        },
        {
          "output_type": "display_data",
          "data": {
            "text/plain": [
              "<Figure size 640x480 with 2 Axes>"
            ],
            "image/png": "[encoded data removed]"
          },
          "metadata": {}
        }
      ]
    }
  ]
}